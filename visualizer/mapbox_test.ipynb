{
 "cells": [
  {
   "cell_type": "code",
   "execution_count": 8,
   "id": "authorized-staff",
   "metadata": {},
   "outputs": [
    {
     "data": {
      "text/html": [
       "<div style=\"width:100%;\"><div style=\"position:relative;width:100%;height:0;padding-bottom:60%;\"><span style=\"color:#565656\">Make this Notebook Trusted to load map: File -> Trust Notebook</span><iframe src=\"about:blank\" style=\"position:absolute;width:100%;height:100%;left:0;top:0;border:none !important;\" data-html=%3C%21DOCTYPE%20html%3E%0A%3Chead%3E%20%20%20%20%0A%20%20%20%20%3Cmeta%20http-equiv%3D%22content-type%22%20content%3D%22text/html%3B%20charset%3DUTF-8%22%20/%3E%0A%20%20%20%20%0A%20%20%20%20%20%20%20%20%3Cscript%3E%0A%20%20%20%20%20%20%20%20%20%20%20%20L_NO_TOUCH%20%3D%20false%3B%0A%20%20%20%20%20%20%20%20%20%20%20%20L_DISABLE_3D%20%3D%20false%3B%0A%20%20%20%20%20%20%20%20%3C/script%3E%0A%20%20%20%20%0A%20%20%20%20%3Cstyle%3Ehtml%2C%20body%20%7Bwidth%3A%20100%25%3Bheight%3A%20100%25%3Bmargin%3A%200%3Bpadding%3A%200%3B%7D%3C/style%3E%0A%20%20%20%20%3Cstyle%3E%23map%20%7Bposition%3Aabsolute%3Btop%3A0%3Bbottom%3A0%3Bright%3A0%3Bleft%3A0%3B%7D%3C/style%3E%0A%20%20%20%20%3Cscript%20src%3D%22https%3A//cdn.jsdelivr.net/npm/leaflet%401.6.0/dist/leaflet.js%22%3E%3C/script%3E%0A%20%20%20%20%3Cscript%20src%3D%22https%3A//code.jquery.com/jquery-1.12.4.min.js%22%3E%3C/script%3E%0A%20%20%20%20%3Cscript%20src%3D%22https%3A//maxcdn.bootstrapcdn.com/bootstrap/3.2.0/js/bootstrap.min.js%22%3E%3C/script%3E%0A%20%20%20%20%3Cscript%20src%3D%22https%3A//cdnjs.cloudflare.com/ajax/libs/Leaflet.awesome-markers/2.0.2/leaflet.awesome-markers.js%22%3E%3C/script%3E%0A%20%20%20%20%3Clink%20rel%3D%22stylesheet%22%20href%3D%22https%3A//cdn.jsdelivr.net/npm/leaflet%401.6.0/dist/leaflet.css%22/%3E%0A%20%20%20%20%3Clink%20rel%3D%22stylesheet%22%20href%3D%22https%3A//maxcdn.bootstrapcdn.com/bootstrap/3.2.0/css/bootstrap.min.css%22/%3E%0A%20%20%20%20%3Clink%20rel%3D%22stylesheet%22%20href%3D%22https%3A//maxcdn.bootstrapcdn.com/bootstrap/3.2.0/css/bootstrap-theme.min.css%22/%3E%0A%20%20%20%20%3Clink%20rel%3D%22stylesheet%22%20href%3D%22https%3A//maxcdn.bootstrapcdn.com/font-awesome/4.6.3/css/font-awesome.min.css%22/%3E%0A%20%20%20%20%3Clink%20rel%3D%22stylesheet%22%20href%3D%22https%3A//cdnjs.cloudflare.com/ajax/libs/Leaflet.awesome-markers/2.0.2/leaflet.awesome-markers.css%22/%3E%0A%20%20%20%20%3Clink%20rel%3D%22stylesheet%22%20href%3D%22https%3A//cdn.jsdelivr.net/gh/python-visualization/folium/folium/templates/leaflet.awesome.rotate.min.css%22/%3E%0A%20%20%20%20%0A%20%20%20%20%20%20%20%20%20%20%20%20%3Cmeta%20name%3D%22viewport%22%20content%3D%22width%3Ddevice-width%2C%0A%20%20%20%20%20%20%20%20%20%20%20%20%20%20%20%20initial-scale%3D1.0%2C%20maximum-scale%3D1.0%2C%20user-scalable%3Dno%22%20/%3E%0A%20%20%20%20%20%20%20%20%20%20%20%20%3Cstyle%3E%0A%20%20%20%20%20%20%20%20%20%20%20%20%20%20%20%20%23map_7577ecf399e544208762146a9681de09%20%7B%0A%20%20%20%20%20%20%20%20%20%20%20%20%20%20%20%20%20%20%20%20position%3A%20relative%3B%0A%20%20%20%20%20%20%20%20%20%20%20%20%20%20%20%20%20%20%20%20width%3A%20100.0%25%3B%0A%20%20%20%20%20%20%20%20%20%20%20%20%20%20%20%20%20%20%20%20height%3A%20100.0%25%3B%0A%20%20%20%20%20%20%20%20%20%20%20%20%20%20%20%20%20%20%20%20left%3A%200.0%25%3B%0A%20%20%20%20%20%20%20%20%20%20%20%20%20%20%20%20%20%20%20%20top%3A%200.0%25%3B%0A%20%20%20%20%20%20%20%20%20%20%20%20%20%20%20%20%7D%0A%20%20%20%20%20%20%20%20%20%20%20%20%3C/style%3E%0A%20%20%20%20%20%20%20%20%0A%3C/head%3E%0A%3Cbody%3E%20%20%20%20%0A%20%20%20%20%0A%20%20%20%20%20%20%20%20%20%20%20%20%3Cdiv%20class%3D%22folium-map%22%20id%3D%22map_7577ecf399e544208762146a9681de09%22%20%3E%3C/div%3E%0A%20%20%20%20%20%20%20%20%0A%3C/body%3E%0A%3Cscript%3E%20%20%20%20%0A%20%20%20%20%0A%20%20%20%20%20%20%20%20%20%20%20%20var%20map_7577ecf399e544208762146a9681de09%20%3D%20L.map%28%0A%20%20%20%20%20%20%20%20%20%20%20%20%20%20%20%20%22map_7577ecf399e544208762146a9681de09%22%2C%0A%20%20%20%20%20%20%20%20%20%20%20%20%20%20%20%20%7B%0A%20%20%20%20%20%20%20%20%20%20%20%20%20%20%20%20%20%20%20%20center%3A%20%5B37.1640654%2C%20128.9855649%5D%2C%0A%20%20%20%20%20%20%20%20%20%20%20%20%20%20%20%20%20%20%20%20crs%3A%20L.CRS.EPSG3857%2C%0A%20%20%20%20%20%20%20%20%20%20%20%20%20%20%20%20%20%20%20%20zoom%3A%207%2C%0A%20%20%20%20%20%20%20%20%20%20%20%20%20%20%20%20%20%20%20%20zoomControl%3A%20true%2C%0A%20%20%20%20%20%20%20%20%20%20%20%20%20%20%20%20%20%20%20%20preferCanvas%3A%20false%2C%0A%20%20%20%20%20%20%20%20%20%20%20%20%20%20%20%20%7D%0A%20%20%20%20%20%20%20%20%20%20%20%20%29%3B%0A%0A%20%20%20%20%20%20%20%20%20%20%20%20%0A%0A%20%20%20%20%20%20%20%20%0A%20%20%20%20%0A%20%20%20%20%20%20%20%20%20%20%20%20var%20tile_layer_bb47114f5b9f46128ced5c6082b606c9%20%3D%20L.tileLayer%28%0A%20%20%20%20%20%20%20%20%20%20%20%20%20%20%20%20%22https%3A//%7Bs%7D.tile.openstreetmap.org/%7Bz%7D/%7Bx%7D/%7By%7D.png%22%2C%0A%20%20%20%20%20%20%20%20%20%20%20%20%20%20%20%20%7B%22attribution%22%3A%20%22Data%20by%20%5Cu0026copy%3B%20%5Cu003ca%20href%3D%5C%22http%3A//openstreetmap.org%5C%22%5Cu003eOpenStreetMap%5Cu003c/a%5Cu003e%2C%20under%20%5Cu003ca%20href%3D%5C%22http%3A//www.openstreetmap.org/copyright%5C%22%5Cu003eODbL%5Cu003c/a%5Cu003e.%22%2C%20%22detectRetina%22%3A%20false%2C%20%22maxNativeZoom%22%3A%2018%2C%20%22maxZoom%22%3A%2018%2C%20%22minZoom%22%3A%200%2C%20%22noWrap%22%3A%20false%2C%20%22opacity%22%3A%201%2C%20%22subdomains%22%3A%20%22abc%22%2C%20%22tms%22%3A%20false%7D%0A%20%20%20%20%20%20%20%20%20%20%20%20%29.addTo%28map_7577ecf399e544208762146a9681de09%29%3B%0A%20%20%20%20%20%20%20%20%0A%20%20%20%20%0A%20%20%20%20%20%20%20%20%20%20%20%20var%20marker_ffbb960915a644e0bd9f6d1a77d424d3%20%3D%20L.marker%28%0A%20%20%20%20%20%20%20%20%20%20%20%20%20%20%20%20%5B37.1640654%2C%20128.9855649%5D%2C%0A%20%20%20%20%20%20%20%20%20%20%20%20%20%20%20%20%7B%7D%0A%20%20%20%20%20%20%20%20%20%20%20%20%29.addTo%28map_7577ecf399e544208762146a9681de09%29%3B%0A%20%20%20%20%20%20%20%20%0A%20%20%20%20%0A%20%20%20%20%20%20%20%20%20%20%20%20marker_ffbb960915a644e0bd9f6d1a77d424d3.bindTooltip%28%0A%20%20%20%20%20%20%20%20%20%20%20%20%20%20%20%20%60%3Cdiv%3E%0A%20%20%20%20%20%20%20%20%20%20%20%20%20%20%20%20%20%20%20%20%20%ED%83%9C%EB%B0%B1%EC%82%B0%20%EB%88%88%EC%B6%95%EC%A0%9C%0A%20%20%20%20%20%20%20%20%20%20%20%20%20%20%20%20%20%3C/div%3E%60%2C%0A%20%20%20%20%20%20%20%20%20%20%20%20%20%20%20%20%7B%22sticky%22%3A%20true%7D%0A%20%20%20%20%20%20%20%20%20%20%20%20%29%3B%0A%20%20%20%20%20%20%20%20%0A%3C/script%3E onload=\"this.contentDocument.open();this.contentDocument.write(    decodeURIComponent(this.getAttribute('data-html')));this.contentDocument.close();\" allowfullscreen webkitallowfullscreen mozallowfullscreen></iframe></div></div>"
      ],
      "text/plain": [
       "<folium.folium.Map at 0x2cb0b1699b0>"
      ]
     },
     "execution_count": 8,
     "metadata": {},
     "output_type": "execute_result"
    }
   ],
   "source": [
    "import folium\n",
    "\n",
    "# Parameters\n",
    "snow_festival1 = {\n",
    "    # 축제명\n",
    "    \"name\": \"태백산 눈축제\",\n",
    "    # 검색 키워드\n",
    "    \"keywords\": [\"2019 태백산 눈축제 후기\"],\n",
    "    # 검색 엔진\n",
    "    \"engines\": [\"NAVER\"],\n",
    "    # 축제 지역 위도\n",
    "    \"lat\": 37.1640654,\n",
    "    # 축제 지역 경도\n",
    "    \"long\": 128.9855649,\n",
    "    # 시설 분류별 구글 지도 검색 키워드\n",
    "    \"facility_keywords\": {\"숙박시설\": [\"강원도 태백시 숙박시설\"], \"음식점\": [\"강원도 태백시 음식점\"]},\n",
    "}\n",
    "\n",
    "target_parameters = snow_festival1\n",
    "\n",
    "#지도 띄우기\n",
    "m = folium.Map([snow_festival1[\"lat\"],snow_festival1[\"long\"]],zoom_start=7)\n",
    "folium.Marker([snow_festival1[\"lat\"],snow_festival1[\"long\"]],tooltip = snow_festival1[\"name\"]).add_to(m)\n",
    "\n",
    "m"
   ]
  },
  {
   "cell_type": "code",
   "execution_count": 12,
   "id": "double-quantum",
   "metadata": {},
   "outputs": [
    {
     "data": {
      "text/plain": [
       "<folium.map.Marker at 0x2cb0c7697b8>"
      ]
     },
     "execution_count": 12,
     "metadata": {},
     "output_type": "execute_result"
    }
   ],
   "source": [
    "import json\n",
    "\n",
    "m = folium.Map([snow_festival1[\"lat\"],snow_festival1[\"long\"]],zoom_start=7)\n",
    "folium.Marker(\n",
    "    location=[snow_festival1[\"lat\"],snow_festival1[\"long\"]],\n",
    "    tooltip = snow_festival1[\"name\"],\n",
    "    popup=folium.Popup(max_width=450).add_child(\n",
    "        folium.Vega(json.loads(open(\"../태백산 눈축제/adjectives.json\", encoding=\"utf8\").read(), encoding=\"utf8\", ), width=450, height=250)\n",
    "    ),\n",
    ").add_to(m)"
   ]
  },
  {
   "cell_type": "code",
   "execution_count": 13,
   "id": "relevant-packet",
   "metadata": {},
   "outputs": [
    {
     "data": {
      "text/html": [
       "<div style=\"width:100%;\"><div style=\"position:relative;width:100%;height:0;padding-bottom:60%;\"><span style=\"color:#565656\">Make this Notebook Trusted to load map: File -> Trust Notebook</span><iframe src=\"about:blank\" style=\"position:absolute;width:100%;height:100%;left:0;top:0;border:none !important;\" data-html=%3C%21DOCTYPE%20html%3E%0A%3Chead%3E%20%20%20%20%0A%20%20%20%20%3Cmeta%20http-equiv%3D%22content-type%22%20content%3D%22text/html%3B%20charset%3DUTF-8%22%20/%3E%0A%20%20%20%20%0A%20%20%20%20%20%20%20%20%3Cscript%3E%0A%20%20%20%20%20%20%20%20%20%20%20%20L_NO_TOUCH%20%3D%20false%3B%0A%20%20%20%20%20%20%20%20%20%20%20%20L_DISABLE_3D%20%3D%20false%3B%0A%20%20%20%20%20%20%20%20%3C/script%3E%0A%20%20%20%20%0A%20%20%20%20%3Cstyle%3Ehtml%2C%20body%20%7Bwidth%3A%20100%25%3Bheight%3A%20100%25%3Bmargin%3A%200%3Bpadding%3A%200%3B%7D%3C/style%3E%0A%20%20%20%20%3Cstyle%3E%23map%20%7Bposition%3Aabsolute%3Btop%3A0%3Bbottom%3A0%3Bright%3A0%3Bleft%3A0%3B%7D%3C/style%3E%0A%20%20%20%20%3Cscript%20src%3D%22https%3A//cdn.jsdelivr.net/npm/leaflet%401.6.0/dist/leaflet.js%22%3E%3C/script%3E%0A%20%20%20%20%3Cscript%20src%3D%22https%3A//code.jquery.com/jquery-2.1.0.min.js%22%3E%3C/script%3E%0A%20%20%20%20%3Cscript%20src%3D%22https%3A//maxcdn.bootstrapcdn.com/bootstrap/3.2.0/js/bootstrap.min.js%22%3E%3C/script%3E%0A%20%20%20%20%3Cscript%20src%3D%22https%3A//cdnjs.cloudflare.com/ajax/libs/Leaflet.awesome-markers/2.0.2/leaflet.awesome-markers.js%22%3E%3C/script%3E%0A%20%20%20%20%3Clink%20rel%3D%22stylesheet%22%20href%3D%22https%3A//cdn.jsdelivr.net/npm/leaflet%401.6.0/dist/leaflet.css%22/%3E%0A%20%20%20%20%3Clink%20rel%3D%22stylesheet%22%20href%3D%22https%3A//maxcdn.bootstrapcdn.com/bootstrap/3.2.0/css/bootstrap.min.css%22/%3E%0A%20%20%20%20%3Clink%20rel%3D%22stylesheet%22%20href%3D%22https%3A//maxcdn.bootstrapcdn.com/bootstrap/3.2.0/css/bootstrap-theme.min.css%22/%3E%0A%20%20%20%20%3Clink%20rel%3D%22stylesheet%22%20href%3D%22https%3A//maxcdn.bootstrapcdn.com/font-awesome/4.6.3/css/font-awesome.min.css%22/%3E%0A%20%20%20%20%3Clink%20rel%3D%22stylesheet%22%20href%3D%22https%3A//cdnjs.cloudflare.com/ajax/libs/Leaflet.awesome-markers/2.0.2/leaflet.awesome-markers.css%22/%3E%0A%20%20%20%20%3Clink%20rel%3D%22stylesheet%22%20href%3D%22https%3A//cdn.jsdelivr.net/gh/python-visualization/folium/folium/templates/leaflet.awesome.rotate.min.css%22/%3E%0A%20%20%20%20%0A%20%20%20%20%20%20%20%20%20%20%20%20%3Cmeta%20name%3D%22viewport%22%20content%3D%22width%3Ddevice-width%2C%0A%20%20%20%20%20%20%20%20%20%20%20%20%20%20%20%20initial-scale%3D1.0%2C%20maximum-scale%3D1.0%2C%20user-scalable%3Dno%22%20/%3E%0A%20%20%20%20%20%20%20%20%20%20%20%20%3Cstyle%3E%0A%20%20%20%20%20%20%20%20%20%20%20%20%20%20%20%20%23map_e571c780d4164fc1b5c576efec7fa16c%20%7B%0A%20%20%20%20%20%20%20%20%20%20%20%20%20%20%20%20%20%20%20%20position%3A%20relative%3B%0A%20%20%20%20%20%20%20%20%20%20%20%20%20%20%20%20%20%20%20%20width%3A%20100.0%25%3B%0A%20%20%20%20%20%20%20%20%20%20%20%20%20%20%20%20%20%20%20%20height%3A%20100.0%25%3B%0A%20%20%20%20%20%20%20%20%20%20%20%20%20%20%20%20%20%20%20%20left%3A%200.0%25%3B%0A%20%20%20%20%20%20%20%20%20%20%20%20%20%20%20%20%20%20%20%20top%3A%200.0%25%3B%0A%20%20%20%20%20%20%20%20%20%20%20%20%20%20%20%20%7D%0A%20%20%20%20%20%20%20%20%20%20%20%20%3C/style%3E%0A%20%20%20%20%20%20%20%20%0A%20%20%20%20%3Cscript%20src%3D%22https%3A//cdnjs.cloudflare.com/ajax/libs/d3/3.5.5/d3.min.js%22%3E%3C/script%3E%0A%20%20%20%20%3Cscript%20src%3D%22https%3A//cdnjs.cloudflare.com/ajax/libs/vega/1.4.3/vega.min.js%22%3E%3C/script%3E%0A%20%20%20%20%0A%20%20%20%20%20%20%20%20%20%20%20%20%3Cstyle%3E%20%23vega_ee7f7ac599e148fc93b34286df733ab9%20%7B%0A%20%20%20%20%20%20%20%20%20%20%20%20%20%20%20%20position%20%3A%20relative%3B%0A%20%20%20%20%20%20%20%20%20%20%20%20%20%20%20%20width%20%3A%20450.0px%3B%0A%20%20%20%20%20%20%20%20%20%20%20%20%20%20%20%20height%3A%20250.0px%3B%0A%20%20%20%20%20%20%20%20%20%20%20%20%20%20%20%20left%3A%200.0%25%3B%0A%20%20%20%20%20%20%20%20%20%20%20%20%20%20%20%20top%3A%200.0%25%3B%0A%20%20%20%20%20%20%20%20%20%20%20%20%3C/style%3E%0A%20%20%20%20%20%20%20%20%20%20%20%20%0A%3C/head%3E%0A%3Cbody%3E%20%20%20%20%0A%20%20%20%20%0A%20%20%20%20%20%20%20%20%20%20%20%20%3Cdiv%20class%3D%22folium-map%22%20id%3D%22map_e571c780d4164fc1b5c576efec7fa16c%22%20%3E%3C/div%3E%0A%20%20%20%20%20%20%20%20%0A%3C/body%3E%0A%3Cscript%3E%20%20%20%20%0A%20%20%20%20%0A%20%20%20%20%20%20%20%20%20%20%20%20var%20map_e571c780d4164fc1b5c576efec7fa16c%20%3D%20L.map%28%0A%20%20%20%20%20%20%20%20%20%20%20%20%20%20%20%20%22map_e571c780d4164fc1b5c576efec7fa16c%22%2C%0A%20%20%20%20%20%20%20%20%20%20%20%20%20%20%20%20%7B%0A%20%20%20%20%20%20%20%20%20%20%20%20%20%20%20%20%20%20%20%20center%3A%20%5B37.1640654%2C%20128.9855649%5D%2C%0A%20%20%20%20%20%20%20%20%20%20%20%20%20%20%20%20%20%20%20%20crs%3A%20L.CRS.EPSG3857%2C%0A%20%20%20%20%20%20%20%20%20%20%20%20%20%20%20%20%20%20%20%20zoom%3A%207%2C%0A%20%20%20%20%20%20%20%20%20%20%20%20%20%20%20%20%20%20%20%20zoomControl%3A%20true%2C%0A%20%20%20%20%20%20%20%20%20%20%20%20%20%20%20%20%20%20%20%20preferCanvas%3A%20false%2C%0A%20%20%20%20%20%20%20%20%20%20%20%20%20%20%20%20%7D%0A%20%20%20%20%20%20%20%20%20%20%20%20%29%3B%0A%0A%20%20%20%20%20%20%20%20%20%20%20%20%0A%0A%20%20%20%20%20%20%20%20%0A%20%20%20%20%0A%20%20%20%20%20%20%20%20%20%20%20%20var%20tile_layer_ed97044c21014286b5344cb91f2b586e%20%3D%20L.tileLayer%28%0A%20%20%20%20%20%20%20%20%20%20%20%20%20%20%20%20%22https%3A//%7Bs%7D.tile.openstreetmap.org/%7Bz%7D/%7Bx%7D/%7By%7D.png%22%2C%0A%20%20%20%20%20%20%20%20%20%20%20%20%20%20%20%20%7B%22attribution%22%3A%20%22Data%20by%20%5Cu0026copy%3B%20%5Cu003ca%20href%3D%5C%22http%3A//openstreetmap.org%5C%22%5Cu003eOpenStreetMap%5Cu003c/a%5Cu003e%2C%20under%20%5Cu003ca%20href%3D%5C%22http%3A//www.openstreetmap.org/copyright%5C%22%5Cu003eODbL%5Cu003c/a%5Cu003e.%22%2C%20%22detectRetina%22%3A%20false%2C%20%22maxNativeZoom%22%3A%2018%2C%20%22maxZoom%22%3A%2018%2C%20%22minZoom%22%3A%200%2C%20%22noWrap%22%3A%20false%2C%20%22opacity%22%3A%201%2C%20%22subdomains%22%3A%20%22abc%22%2C%20%22tms%22%3A%20false%7D%0A%20%20%20%20%20%20%20%20%20%20%20%20%29.addTo%28map_e571c780d4164fc1b5c576efec7fa16c%29%3B%0A%20%20%20%20%20%20%20%20%0A%20%20%20%20%0A%20%20%20%20%20%20%20%20%20%20%20%20var%20marker_43f0db8346e94fb186eee2457f0f3ceb%20%3D%20L.marker%28%0A%20%20%20%20%20%20%20%20%20%20%20%20%20%20%20%20%5B37.1640654%2C%20128.9855649%5D%2C%0A%20%20%20%20%20%20%20%20%20%20%20%20%20%20%20%20%7B%7D%0A%20%20%20%20%20%20%20%20%20%20%20%20%29.addTo%28map_e571c780d4164fc1b5c576efec7fa16c%29%3B%0A%20%20%20%20%20%20%20%20%0A%20%20%20%20function%20vega_parse%28spec%2C%20div%29%20%7B%0A%20%20%20%20%20%20%20%20%20%20%20%20vg.parse.spec%28spec%2C%20function%28chart%29%20%7B%20chart%28%7Bel%3Adiv%7D%29.update%28%29%3B%20%7D%29%3B%7D%0A%20%20%20%20%0A%20%20%20%20%20%20%20%20var%20popup_3b77aeeaad65420dbfd394a2700a77f6%20%3D%20L.popup%28%7B%22maxWidth%22%3A%20450%7D%29%3B%0A%0A%20%20%20%20%20%20%20%20%0A%20%20%20%20%20%20%20%20%20%20%20%20var%20vega_ee7f7ac599e148fc93b34286df733ab9%20%3D%20%24%28%60%20%20%20%20%20%20%20%20%20%20%20%20%20%3Cdiv%20id%3D%22vega_ee7f7ac599e148fc93b34286df733ab9%22%3E%3C/div%3E%20%20%20%20%20%20%20%20%20%20%20%20%20%60%29%5B0%5D%3B%0A%20%20%20%20%20%20%20%20%20%20%20%20popup_3b77aeeaad65420dbfd394a2700a77f6.setContent%28vega_ee7f7ac599e148fc93b34286df733ab9%29%3B%0A%20%20%20%20%20%20%20%20%0A%0A%20%20%20%20%20%20%20%20marker_43f0db8346e94fb186eee2457f0f3ceb.bindPopup%28popup_3b77aeeaad65420dbfd394a2700a77f6%29%0A%20%20%20%20%20%20%20%20%3B%0A%0A%20%20%20%20%20%20%20%20%0A%20%20%20%20%20%20%20%20%20%20%20%20%0A%20%20%20%20%20%20%20%20%20%20%20%20vega_parse%28%7B%22%5Cuc88b%5Cub2e4%22%3A%2047%2C%20%22%5Cub2e4%5Cuc591%5Cud558%5Cub2e4%22%3A%2022%2C%20%22%5Cuc2e0%5Cub098%5Cub2e4%22%3A%2011%2C%20%22%5Cuc0c8%5Cub86d%5Cub2e4%22%3A%2010%2C%20%22%5Cuc544%5Cub984%5Cub2f5%5Cub2e4%22%3A%209%2C%20%22%5Cuc88b%5Cuc544%5Cud558%5Cub2e4%22%3A%209%2C%20%22%5Cuc7ac%5Cubbf8%5Cuc788%5Cub2e4%22%3A%208%2C%20%22%5Cub192%5Cub2e4%22%3A%208%2C%20%22%5Cuc608%5Cuc058%5Cub2e4%22%3A%207%2C%20%22%5Cuc5ec%5Cuc804%5Cud558%5Cub2e4%22%3A%207%2C%20%22%5Cubbf8%5Cuce58%5Cub2e4%22%3A%206%2C%20%22%5Cuad1c%5Cucc2e%5Cub2e4%22%3A%206%2C%20%22%5Cubc09%5Cub2e4%22%3A%206%2C%20%22%5Cuae38%5Cub2e4%22%3A%206%2C%20%22%5Cuc548%5Cub155%5Cud558%5Cub2e4%22%3A%206%2C%20%22%5Cuacc4%5Cuc2dc%5Cub2e4%22%3A%206%2C%20%22%5Cud558%5Cuc597%5Cub2e4%22%3A%205%2C%20%22%5Cuc790%5Cuc138%5Cud558%5Cub2e4%22%3A%205%2C%20%22%5Cucda5%5Cub2e4%22%3A%205%2C%20%22%5Cuc7ac%5Cubc0c%5Cub2e4%22%3A%205%2C%20%22%5Cuc990%5Cuac81%5Cub2e4%22%3A%205%2C%20%22%5Cuac04%5Cub2e8%5Cud558%5Cub2e4%22%3A%205%2C%20%22%5Cub0ae%5Cub2e4%22%3A%205%2C%20%22%5Cuc2e0%5Cuae30%5Cud558%5Cub2e4%22%3A%205%2C%20%22%5Cub2e4%5Cub974%5Cub2e4%22%3A%205%2C%20%22%5Cuc778%5Cud558%5Cub2e4%22%3A%205%2C%20%22%5Cud798%5Cub4e4%5Cub2e4%22%3A%205%2C%20%22%5Cuc5b4%5Cub835%5Cub2e4%22%3A%204%2C%20%22%5Cubb34%5Cuc12d%5Cub2e4%22%3A%204%2C%20%22%5Cubd80%5Cuc871%5Cud558%5Cub2e4%22%3A%203%2C%20%22%5Cuc704%5Cud5d8%5Cud558%5Cub2e4%22%3A%203%2C%20%22%5Cuc911%5Cuc694%5Cud558%5Cub2e4%22%3A%203%2C%20%22%5Cuac15%5Cud558%5Cub2e4%22%3A%203%2C%20%22%5Cuc544%5Cuc27d%5Cub2e4%22%3A%203%2C%20%22%5Cub365%5Cub2e4%22%3A%203%2C%20%22%5Cubbf8%5Cub044%5Cub7fd%5Cub2e4%22%3A%203%2C%20%22%5Cub9d1%5Cub2e4%22%3A%203%2C%20%22%5Cub118%5Cuce58%5Cub2e4%22%3A%203%2C%20%22%5Cuc774%5Cuc058%5Cub2e4%22%3A%203%2C%20%22%5Cuc544%5Cub9ac%5Cub2e4%22%3A%203%2C%20%22%5Cuc544%5Cud504%5Cub2e4%22%3A%203%2C%20%22%5Cuad6c%5Cub9ac%5Cub2e4%22%3A%203%2C%20%22%5Cuae30%5Cub300%5Cud558%5Cub2e4%22%3A%203%2C%20%22%5Cub531%5Cuc774%5Cub2e4%22%3A%202%2C%20%22%5Cuac1c%5Cuc6b4%5Cud558%5Cub2e4%22%3A%202%2C%20%22%5Cuc6d0%5Cud558%5Cub2e4%22%3A%202%2C%20%22%5Cuc190%5Cuc27d%5Cub2e4%22%3A%202%2C%20%22%5Cuc870%5Cuc2ec%5Cuc2a4%5Cub7fd%5Cub2e4%22%3A%202%2C%20%22%5Cubd88%5Cud655%5Cuc2e4%5Cud558%5Cub2e4%22%3A%202%2C%20%22%5Cud68c%5Cubcf5%5Cud558%5Cub2e4%22%3A%202%2C%20%22%5Cud48d%5Cubd80%5Cud558%5Cub2e4%22%3A%202%2C%20%22%5Cuc218%5Cub9ce%5Cub2e4%22%3A%202%2C%20%22%5Cuc18c%5Cuc911%5Cud558%5Cub2e4%22%3A%202%2C%20%22%5Cube44%5Cuc2f8%5Cub2e4%22%3A%202%2C%20%22%5Cuce5c%5Cuc808%5Cud558%5Cub2e4%22%3A%202%2C%20%22%5Cucee4%5Cub2e4%5Cub797%5Cub2e4%22%3A%202%2C%20%22%5Cuc9c4%5Cuc815%5Cud558%5Cub2e4%22%3A%202%2C%20%22%5Cud655%5Cuc2e4%5Cud558%5Cub2e4%22%3A%202%2C%20%22%5Cub2f9%5Cud558%5Cub2e4%22%3A%202%2C%20%22%5Cuc544%5Cuae5d%5Cub2e4%22%3A%202%2C%20%22%5Cuac00%5Cuae5d%5Cub2e4%22%3A%202%2C%20%22%5Cubc14%5Cuc058%5Cub2e4%22%3A%202%2C%20%22%5Cuba40%5Cub2e4%22%3A%202%2C%20%22%5Cuad81%5Cuae08%5Cud558%5Cub2e4%22%3A%202%2C%20%22%5Cub113%5Cub2e4%22%3A%202%2C%20%22%5Cuac70%5Cucc3d%5Cud558%5Cub2e4%22%3A%202%2C%20%22%5Cuc8fc%5Cub3c4%5Cud558%5Cub2e4%22%3A%202%2C%20%22%5Cud3b8%5Cud558%5Cub2e4%22%3A%202%2C%20%22%5Cuc6b0%5Cuc9c1%5Cud558%5Cub2e4%22%3A%202%2C%20%22%5Cud5d8%5Cud558%5Cub2e4%22%3A%202%2C%20%22%5Cud3ec%5Cuadfc%5Cud558%5Cub2e4%22%3A%202%2C%20%22%5Cuc2eb%5Cub2e4%22%3A%202%2C%20%22%5Cuc131%5Cud558%5Cub2e4%22%3A%201%2C%20%22%5Cud654%5Cub048%5Cud558%5Cub2e4%22%3A%201%2C%20%22%5Cub3c5%5Cud2b9%5Cud558%5Cub2e4%22%3A%201%2C%20%22%5Cuc644%5Cubcbd%5Cud558%5Cub2e4%22%3A%201%2C%20%22%5Cuc720%5Cuc6a9%5Cud558%5Cub2e4%22%3A%201%2C%20%22%5Cuadf8%5Cub4dd%5Cud558%5Cub2e4%22%3A%201%2C%20%22%5Cuad75%5Cub2e4%22%3A%201%2C%20%22%5Cuc6ec%5Cub9cc%5Cud558%5Cub2e4%22%3A%201%2C%20%22%5Cuc2e0%5Cuc911%5Cud558%5Cub2e4%22%3A%201%2C%20%22%5Cuc633%5Cub2e4%22%3A%201%2C%20%22%5Cuc644%5Cuc804%5Cud558%5Cub2e4%22%3A%201%2C%20%22%5Cuc9c4%5Cuc9c0%5Cud558%5Cub2e4%22%3A%201%2C%20%22%5Cuc7a5%5Cud558%5Cub2e4%22%3A%201%2C%20%22%5Cuac74%5Cuac15%5Cud558%5Cub2e4%22%3A%201%2C%20%22%5Cube44%5Cuc2b7%5Cud558%5Cub2e4%22%3A%201%2C%20%22%5Cub208%5Cubd80%5Cuc2dc%5Cub2e4%22%3A%201%2C%20%22%5Cubd88%5Cuac00%5Cud53c%5Cud558%5Cub2e4%22%3A%201%2C%20%22%5Cuae09%5Cuaca9%5Cud558%5Cub2e4%22%3A%201%2C%20%22%5Cuac74%5Cuc7a5%5Cud558%5Cub2e4%22%3A%201%2C%20%22%5Cuc6b0%5Cuc2b9%5Cud558%5Cub2e4%22%3A%201%2C%20%22%5Cub2e4%5Cubd80%5Cuc9c0%5Cub2e4%22%3A%201%2C%20%22%5Cuc0dd%5Cuc18c%5Cud558%5Cub2e4%22%3A%201%2C%20%22%5Cuce58%5Cuc5f4%5Cud558%5Cub2e4%22%3A%201%2C%20%22%5Cuc911%5Cub300%5Cud558%5Cub2e4%22%3A%201%2C%20%22%5Cubd88%5Cuc548%5Cud558%5Cub2e4%22%3A%201%2C%20%22%5Cuba85%5Cud655%5Cud558%5Cub2e4%22%3A%201%2C%20%22%5Cub2ec%5Cucf64%5Cud558%5Cub2e4%22%3A%201%2C%20%22%5Cuc194%5Cuc9c1%5Cud558%5Cub2e4%22%3A%201%2C%20%22%5Cuc800%5Cub834%5Cud558%5Cub2e4%22%3A%201%2C%20%22%5Cub4dc%5Cubb3c%5Cub2e4%22%3A%201%2C%20%22%5Cuaf3c%5Cuaf3c%5Cud558%5Cub2e4%22%3A%201%2C%20%22%5Cuae30%5Cuc058%5Cub2e4%22%3A%201%2C%20%22%5Cuc5b4%5Cub290%5Cuc0c8%5Cub2e4%22%3A%201%2C%20%22%5Cuc7a5%5Cuc5c4%5Cud558%5Cub2e4%22%3A%201%2C%20%22%5Cuace7%5Cub2e4%22%3A%201%2C%20%22%5Cud3c9%5Cud3c9%5Cud558%5Cub2e4%22%3A%201%2C%20%22%5Cud3b8%5Cuc548%5Cud558%5Cub2e4%22%3A%201%2C%20%22%5Cuace0%5Cud504%5Cub2e4%22%3A%201%2C%20%22%5Cub4e0%5Cub4e0%5Cud558%5Cub2e4%22%3A%201%2C%20%22%5Cuc18c%5Cubcf5%5Cud558%5Cub2e4%22%3A%201%2C%20%22%5Cuac15%5Cub82c%5Cud558%5Cub2e4%22%3A%201%2C%20%22%5Cuc870%5Cuadf8%5Cub9c8%5Cud558%5Cub2e4%22%3A%201%2C%20%22%5Cuc800%5Cub9ac%5Cub2e4%22%3A%201%2C%20%22%5Cubb34%5Cuc0ac%5Cud558%5Cub2e4%22%3A%201%2C%20%22%5Cuc990%5Cube44%5Cud558%5Cub2e4%22%3A%201%2C%20%22%5Cub2e8%5Cub2e8%5Cud558%5Cub2e4%22%3A%201%2C%20%22%5Cub6f0%5Cuc5b4%5Cub098%5Cub2e4%22%3A%201%2C%20%22%5Cuac70%5Cub300%5Cud558%5Cub2e4%22%3A%201%2C%20%22%5Cuc601%5Cub871%5Cud558%5Cub2e4%22%3A%201%2C%20%22%5Cuac00%5Cuc9c0%5Cub7f0%5Cud558%5Cub2e4%22%3A%201%2C%20%22%5Cucda9%5Cubd84%5Cud558%5Cub2e4%22%3A%201%2C%20%22%5Cuc8c4%5Cuc1a1%5Cud558%5Cub2e4%22%3A%201%2C%20%22%5Cubd89%5Cub2e4%22%3A%201%2C%20%22%5Cud76c%5Cub2e4%22%3A%201%2C%20%22%5Cuac80%5Cub2e4%22%3A%201%2C%20%22%5Cuc120%5Cud558%5Cub2e4%22%3A%201%2C%20%22%5Cuc720%5Cuc77c%5Cud558%5Cub2e4%22%3A%201%2C%20%22%5Cub530%5Cuc2a4%5Cud558%5Cub2e4%22%3A%201%2C%20%22%5Cud3b8%5Cub9ac%5Cud558%5Cub2e4%22%3A%201%2C%20%22%5Cud589%5Cubcf5%5Cud558%5Cub2e4%22%3A%201%2C%20%22%5Cub2e4%5Cud589%5Cud558%5Cub2e4%22%3A%201%2C%20%22%5Cuc57c%5Cubb34%5Cuc9c0%5Cub2e4%22%3A%201%2C%20%22%5Cuc54c%5Cucc28%5Cub2e4%22%3A%201%2C%20%22%5Cuadf8%5Cub9bd%5Cub2e4%22%3A%201%2C%20%22%5Cuae4a%5Cuc219%5Cud558%5Cub2e4%22%3A%201%2C%20%22%5Cuc5c4%5Cuc219%5Cud558%5Cub2e4%22%3A%201%2C%20%22%5Cud2b9%5Cuc774%5Cud558%5Cub2e4%22%3A%201%2C%20%22%5Cuace0%5Cuc694%5Cud558%5Cub2e4%22%3A%201%2C%20%22%5Cud3c9%5Cuc628%5Cud558%5Cub2e4%22%3A%201%2C%20%22%5Cuacf1%5Cub2e4%22%3A%201%2C%20%22%5Cubcc0%5Cud558%5Cub2e4%22%3A%201%2C%20%22%5Cuadc0%5Cud558%5Cub2e4%22%3A%201%2C%20%22%5Cubd84%5Cuc8fc%5Cud558%5Cub2e4%22%3A%201%2C%20%22%5Cucd94%5Cud558%5Cub2e4%22%3A%201%2C%20%22%5Cud798%5Cucc28%5Cub2e4%22%3A%201%2C%20%22%5Cud65c%5Cuae30%5Cucc28%5Cub2e4%22%3A%201%2C%20%22%5Cud669%5Cud640%5Cud558%5Cub2e4%22%3A%201%2C%20%22%5Cuc57c%5Cud558%5Cub2e4%22%3A%201%2C%20%22%5Cuc9e7%5Cub2e4%22%3A%201%2C%20%22%5Cub109%5Cub109%5Cud558%5Cub2e4%22%3A%201%2C%20%22%5Cuc881%5Cub2e4%22%3A%201%2C%20%22%5Cuc5b4%5Cub461%5Cub2e4%22%3A%201%2C%20%22%5Cub180%5Cub798%5Cub2e4%22%3A%201%2C%20%22%5Cud2bc%5Cud2bc%5Cud558%5Cub2e4%22%3A%201%2C%20%22%5Cud5c8%5Cubb34%5Cud558%5Cub2e4%22%3A%201%2C%20%22%5Cuc2ec%5Cuc2ec%5Cud558%5Cub2e4%22%3A%201%2C%20%22%5Cuc2eb%5Cuc5b4%5Cud558%5Cub2e4%22%3A%201%2C%20%22%5Cud30c%5Cub797%5Cub2e4%22%3A%201%2C%20%22%5Cuc548%5Cuc88b%5Cub2e4%22%3A%201%2C%20%22%5Cuc2e4%5Cub9dd%5Cud558%5Cub2e4%22%3A%201%7D%2Cvega_ee7f7ac599e148fc93b34286df733ab9%29%3B%0A%20%20%20%20%20%20%20%20%20%20%20%20%0A%20%20%20%20%20%20%20%20%0A%20%20%20%20%0A%20%20%20%20%0A%20%20%20%20%20%20%20%20%20%20%20%20marker_43f0db8346e94fb186eee2457f0f3ceb.bindTooltip%28%0A%20%20%20%20%20%20%20%20%20%20%20%20%20%20%20%20%60%3Cdiv%3E%0A%20%20%20%20%20%20%20%20%20%20%20%20%20%20%20%20%20%20%20%20%20%ED%83%9C%EB%B0%B1%EC%82%B0%20%EB%88%88%EC%B6%95%EC%A0%9C%0A%20%20%20%20%20%20%20%20%20%20%20%20%20%20%20%20%20%3C/div%3E%60%2C%0A%20%20%20%20%20%20%20%20%20%20%20%20%20%20%20%20%7B%22sticky%22%3A%20true%7D%0A%20%20%20%20%20%20%20%20%20%20%20%20%29%3B%0A%20%20%20%20%20%20%20%20%0A%3C/script%3E onload=\"this.contentDocument.open();this.contentDocument.write(    decodeURIComponent(this.getAttribute('data-html')));this.contentDocument.close();\" allowfullscreen webkitallowfullscreen mozallowfullscreen></iframe></div></div>"
      ],
      "text/plain": [
       "<folium.folium.Map at 0x2cb0c927c18>"
      ]
     },
     "execution_count": 13,
     "metadata": {},
     "output_type": "execute_result"
    }
   ],
   "source": [
    "m"
   ]
  },
  {
   "cell_type": "code",
   "execution_count": null,
   "id": "informal-cargo",
   "metadata": {},
   "outputs": [],
   "source": []
  }
 ],
 "metadata": {
  "kernelspec": {
   "display_name": "Python 3",
   "language": "python",
   "name": "python3"
  },
  "language_info": {
   "codemirror_mode": {
    "name": "ipython",
    "version": 3
   },
   "file_extension": ".py",
   "mimetype": "text/x-python",
   "name": "python",
   "nbconvert_exporter": "python",
   "pygments_lexer": "ipython3",
   "version": "3.7.2"
  }
 },
 "nbformat": 4,
 "nbformat_minor": 5
}
