{
 "cells": [
  {
   "cell_type": "code",
   "execution_count": 1,
   "id": "cellular-ethiopia",
   "metadata": {},
   "outputs": [],
   "source": [
    "import pandas as pd"
   ]
  },
  {
   "cell_type": "code",
   "execution_count": 4,
   "id": "changed-aggregate",
   "metadata": {},
   "outputs": [],
   "source": [
    "df = pd.read_csv(\"./전국민박펜션업소표준데이터.csv\", encoding=\"cp949\", low_memory=False)"
   ]
  },
  {
   "cell_type": "code",
   "execution_count": 5,
   "id": "brief-apple",
   "metadata": {},
   "outputs": [
    {
     "data": {
      "text/plain": [
       "0         충청북도 청주시\n",
       "1         충청북도 청주시\n",
       "2         충청북도 청주시\n",
       "3         충청북도 청주시\n",
       "4         충청북도 청주시\n",
       "           ...    \n",
       "26271    서울특별시 성동구\n",
       "26272    서울특별시 성동구\n",
       "26273    서울특별시 성동구\n",
       "26274    서울특별시 성동구\n",
       "26275     충청남도 서천군\n",
       "Name: 제공기관명, Length: 26276, dtype: object"
      ]
     },
     "execution_count": 5,
     "metadata": {},
     "output_type": "execute_result"
    }
   ],
   "source": [
    "df[\"제공기관명\"]"
   ]
  },
  {
   "cell_type": "code",
   "execution_count": 6,
   "id": "foster-forum",
   "metadata": {},
   "outputs": [
    {
     "data": {
      "text/plain": [
       "Index(['충전소명', '충전소위치상세', '설치시도명', '휴점일', '이용가능시작시각', '이용가능종료시각', '완속충전가능여부',\n",
       "       '급속충전가능여부', '급속충전타입구분', '완속충전기대수', '급속충전기대수', '주차료부과여부', '소재지도로명주소',\n",
       "       '소재지지번주소', '관리업체명', '관리업체전화번호', '위도', '경도', '데이터기준일자', '제공기관코드',\n",
       "       '제공기관명'],\n",
       "      dtype='object')"
      ]
     },
     "execution_count": 6,
     "metadata": {},
     "output_type": "execute_result"
    }
   ],
   "source": [
    "df = pd.read_csv(\"./전국전기차충전소표준데이터.csv\", encoding=\"cp949\", low_memory=False)\n",
    "df.columns"
   ]
  },
  {
   "cell_type": "code",
   "execution_count": 7,
   "id": "square-account",
   "metadata": {},
   "outputs": [
    {
     "data": {
      "text/plain": [
       "0         경기도 안양시\n",
       "1         경기도 안양시\n",
       "2         경기도 안양시\n",
       "3         경기도 안양시\n",
       "4         경기도 안양시\n",
       "          ...    \n",
       "6694    부산광역시 영도구\n",
       "6695    부산광역시 영도구\n",
       "6696    부산광역시 영도구\n",
       "6697    부산광역시 영도구\n",
       "6698    부산광역시 영도구\n",
       "Name: 제공기관명, Length: 6699, dtype: object"
      ]
     },
     "execution_count": 7,
     "metadata": {},
     "output_type": "execute_result"
    }
   ],
   "source": [
    "df[\"제공기관명\"]"
   ]
  },
  {
   "cell_type": "code",
   "execution_count": 8,
   "id": "synthetic-psychology",
   "metadata": {},
   "outputs": [
    {
     "data": {
      "text/plain": [
       "Index(['관광안내소명', '안내소위치명', '시도명', '시군구명', '안내소소개', '부가서비스정보', '휴무일',\n",
       "       '운영시작시각(하절기)', '운영종료시각(하절기)', '운영시작시각(동절기)', '운영종료시각(동절기)', '평균근무인원수',\n",
       "       '영어안내가능여부', '일본어안내가능여부', '중국어안내가능여부', '안내가능외국어', '안내소전화번호', '소재지도로명주소',\n",
       "       '소재지지번주소', '운영기관명', '홈페이지주소', '위도', '경도', '데이터기준일자', '제공기관코드', '제공기관명'],\n",
       "      dtype='object')"
      ]
     },
     "execution_count": 8,
     "metadata": {},
     "output_type": "execute_result"
    }
   ],
   "source": [
    "df = pd.read_csv(\"./전국관광안내소표준데이터.csv\", encoding=\"cp949\", low_memory=False)\n",
    "df.columns"
   ]
  },
  {
   "cell_type": "code",
   "execution_count": 9,
   "id": "naked-ticket",
   "metadata": {},
   "outputs": [
    {
     "data": {
      "text/plain": [
       "0        경상북도 영덕군\n",
       "1        경상북도 울릉군\n",
       "2        경상북도 울릉군\n",
       "3         경기도 광명시\n",
       "4         경기도 광명시\n",
       "          ...    \n",
       "670      경상북도 상주시\n",
       "671      경상북도 상주시\n",
       "672       강원도 홍천군\n",
       "673       강원도 화천군\n",
       "674    서울특별시 서대문구\n",
       "Name: 제공기관명, Length: 675, dtype: object"
      ]
     },
     "execution_count": 9,
     "metadata": {},
     "output_type": "execute_result"
    }
   ],
   "source": [
    "df['제공기관명']"
   ]
  },
  {
   "cell_type": "code",
   "execution_count": 10,
   "id": "personalized-vaccine",
   "metadata": {},
   "outputs": [
    {
     "data": {
      "text/plain": [
       "Index(['금연구역명', '금연구역범위상세', '시도명', '시군구명', '금연구역구분', '금연구역지정근거명', '금연구역면적',\n",
       "       '위반과태료', '위반신고전화번호', '소재지도로명주소', '소재지지번주소', '관리기관명', '위도', '경도',\n",
       "       '데이터기준일자', '제공기관코드', '제공기관명'],\n",
       "      dtype='object')"
      ]
     },
     "execution_count": 10,
     "metadata": {},
     "output_type": "execute_result"
    }
   ],
   "source": [
    "df = pd.read_csv(\"./전국금연구역표준데이터.csv\", encoding=\"cp949\", low_memory=False)\n",
    "df.columns"
   ]
  },
  {
   "cell_type": "code",
   "execution_count": 11,
   "id": "sonic-blood",
   "metadata": {},
   "outputs": [
    {
     "data": {
      "text/plain": [
       "0          강원도 양양군\n",
       "1          강원도 양양군\n",
       "2          강원도 양양군\n",
       "3          강원도 양양군\n",
       "4          강원도 양양군\n",
       "           ...    \n",
       "49995    서울특별시 은평구\n",
       "49996    서울특별시 은평구\n",
       "49997    서울특별시 은평구\n",
       "49998    서울특별시 은평구\n",
       "49999    서울특별시 은평구\n",
       "Name: 제공기관명, Length: 50000, dtype: object"
      ]
     },
     "execution_count": 11,
     "metadata": {},
     "output_type": "execute_result"
    }
   ],
   "source": [
    "df['제공기관명']"
   ]
  },
  {
   "cell_type": "code",
   "execution_count": 12,
   "id": "afraid-broad",
   "metadata": {},
   "outputs": [
    {
     "data": {
      "text/plain": [
       "0        양양군\n",
       "1        양양군\n",
       "2        양양군\n",
       "3        양양군\n",
       "4        양양군\n",
       "        ... \n",
       "49995    은평구\n",
       "49996    은평구\n",
       "49997    은평구\n",
       "49998    은평구\n",
       "49999    은평구\n",
       "Name: 시군구명, Length: 50000, dtype: object"
      ]
     },
     "execution_count": 12,
     "metadata": {},
     "output_type": "execute_result"
    }
   ],
   "source": [
    "df['시군구명']"
   ]
  },
  {
   "cell_type": "code",
   "execution_count": 13,
   "id": "artificial-encyclopedia",
   "metadata": {},
   "outputs": [
    {
     "data": {
      "text/plain": [
       "Index(['관리번호', '인허가일자', '인허가취소일자', '조건부허가신고사유', '조건부허가시작일자', '조건부허가종료일자',\n",
       "       '영업상태구분코드', '영업상태명', '폐업일자', '휴업시작일자', '휴업종료일자', '재개업일자', '소재지면적',\n",
       "       '업소명', '영문업소명', '업종명', '서비스대상구분', '외국어안내서비스', '소재지도로명주소', '소재지지번주소',\n",
       "       '소재지우편번호', '영문상호주소', '전화번호', '총층수', '지상층수', '지하총수', '객실수', '부대시설',\n",
       "       '주차장보유여부', '결제방법', '홈페이지주소', '주변관광정보', '위도', '경도', '데이터기준일자', '제공기관코드',\n",
       "       '제공기관명'],\n",
       "      dtype='object')"
      ]
     },
     "execution_count": 13,
     "metadata": {},
     "output_type": "execute_result"
    }
   ],
   "source": [
    "df = pd.read_csv(\"./전국민박펜션업소표준데이터.csv\", encoding=\"cp949\", low_memory=False)\n",
    "df.columns"
   ]
  },
  {
   "cell_type": "code",
   "execution_count": 15,
   "id": "ancient-bubble",
   "metadata": {},
   "outputs": [
    {
     "data": {
      "text/plain": [
       "0                              충청북도 청주시 상당구 미원면 옥화2길 13-27\n",
       "1                                  충청북도 청주시 상당구 문의면 미천길 31\n",
       "2                                 충청북도 청주시 상당구 미원면 운교길 191\n",
       "3                            충청북도 청주시 상당구 미원면 쌍이운교로 213-12\n",
       "4                               충청북도 청주시 상당구 미원면 종암길 30-17\n",
       "                               ...                        \n",
       "26271           서울특별시 성동구 행당로 82, 121동 1802호 (행당동, 행당한진타운)\n",
       "26272    서울특별시 성동구 매봉길 15, 114동 2층 203호 (옥수동, 래미안옥수리버젠아파트)\n",
       "26273         서울특별시 성동구 독서당로 191, 5동 1206호 (옥수동, 옥수동극동아파트)\n",
       "26274              서울특별시 성동구 왕십리로21길 41-6, 지하1층 101호 (행당동)\n",
       "26275                                  충청남도 서천군 서면 서인로 272\n",
       "Name: 소재지도로명주소, Length: 26276, dtype: object"
      ]
     },
     "execution_count": 15,
     "metadata": {},
     "output_type": "execute_result"
    }
   ],
   "source": [
    "df['소재지도로명주소']"
   ]
  },
  {
   "cell_type": "code",
   "execution_count": null,
   "id": "closing-backing",
   "metadata": {},
   "outputs": [],
   "source": []
  }
 ],
 "metadata": {
  "kernelspec": {
   "display_name": "Python 3",
   "language": "python",
   "name": "python3"
  },
  "language_info": {
   "codemirror_mode": {
    "name": "ipython",
    "version": 3
   },
   "file_extension": ".py",
   "mimetype": "text/x-python",
   "name": "python",
   "nbconvert_exporter": "python",
   "pygments_lexer": "ipython3",
   "version": "3.7.2"
  }
 },
 "nbformat": 4,
 "nbformat_minor": 5
}
